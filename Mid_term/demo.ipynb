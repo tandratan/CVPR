{
  "nbformat": 4,
  "nbformat_minor": 0,
  "metadata": {
    "colab": {
      "provenance": [],
      "gpuType": "T4",
      "include_colab_link": true
    },
    "kernelspec": {
      "name": "python3",
      "display_name": "Python 3"
    },
    "language_info": {
      "name": "python"
    },
    "accelerator": "GPU"
  },
  "cells": [
    {
      "cell_type": "markdown",
      "metadata": {
        "id": "view-in-github",
        "colab_type": "text"
      },
      "source": [
        "<a href=\"https://colab.research.google.com/github/Emtiaz-pro/CVPR/blob/main/MID/demo.ipynb\" target=\"_parent\"><img src=\"https://colab.research.google.com/assets/colab-badge.svg\" alt=\"Open In Colab\"/></a>"
      ]
    },
    {
      "cell_type": "code",
      "source": [
        "from google.colab import drive\n",
        "drive.mount('/content/drive')\n"
      ],
      "metadata": {
        "colab": {
          "base_uri": "https://localhost:8080/"
        },
        "id": "aY5uU91YpRyb",
        "outputId": "945739fb-381f-4486-8674-56a65e5d444e"
      },
      "execution_count": 5,
      "outputs": [
        {
          "output_type": "stream",
          "name": "stdout",
          "text": [
            "Drive already mounted at /content/drive; to attempt to forcibly remount, call drive.mount(\"/content/drive\", force_remount=True).\n"
          ]
        }
      ]
    },
    {
      "cell_type": "code",
      "execution_count": 6,
      "metadata": {
        "id": "Vm89LVCyjVXU",
        "colab": {
          "base_uri": "https://localhost:8080/",
          "height": 69
        },
        "outputId": "b37fd2c5-4290-4b12-d8ab-8eb1952c7d36"
      },
      "outputs": [
        {
          "output_type": "stream",
          "name": "stderr",
          "text": [
            "WARNING:absl:Compiled the loaded model, but the compiled metrics have yet to be built. `model.compile_metrics` will be empty until you train or evaluate the model.\n"
          ]
        },
        {
          "output_type": "stream",
          "name": "stdout",
          "text": [
            "Starting webcam... Please allow camera access when prompted.\n"
          ]
        },
        {
          "output_type": "display_data",
          "data": {
            "text/plain": [
              "<IPython.core.display.Javascript object>"
            ],
            "application/javascript": [
              "\n",
              "    async function createWebcam() {\n",
              "        const video = document.createElement('video');\n",
              "        video.style.width = '640px';\n",
              "        video.style.height = '480px';\n",
              "        video.setAttribute('playsinline', '');\n",
              "        video.setAttribute('autoplay', '');\n",
              "\n",
              "        const stream = await navigator.mediaDevices.getUserMedia({video: true});\n",
              "        video.srcObject = stream;\n",
              "\n",
              "        const container = document.createElement('div');\n",
              "        container.appendChild(video);\n",
              "        document.body.appendChild(container);\n",
              "\n",
              "        // Create capture button\n",
              "        const captureBtn = document.createElement('button');\n",
              "        captureBtn.textContent = 'Capture and Predict';\n",
              "        captureBtn.style.margin = '10px';\n",
              "        document.body.appendChild(captureBtn);\n",
              "\n",
              "        // Create quit button\n",
              "        const quitBtn = document.createElement('button');\n",
              "        quitBtn.textContent = 'Quit';\n",
              "        quitBtn.style.margin = '10px';\n",
              "        document.body.appendChild(quitBtn);\n",
              "\n",
              "        await new Promise((resolve) => {\n",
              "            video.onloadedmetadata = () => {\n",
              "                resolve();\n",
              "            };\n",
              "        });\n",
              "\n",
              "        video.play();\n",
              "\n",
              "        return new Promise((resolve) => {\n",
              "            captureBtn.onclick = () => {\n",
              "                const canvas = document.createElement('canvas');\n",
              "                canvas.width = video.videoWidth;\n",
              "                canvas.height = video.videoHeight;\n",
              "                canvas.getContext('2d').drawImage(video, 0, 0);\n",
              "                const data = canvas.toDataURL('image/jpeg', 0.8);\n",
              "                resolve(data);\n",
              "            };\n",
              "\n",
              "            quitBtn.onclick = () => {\n",
              "                stream.getTracks().forEach(track => track.stop());\n",
              "                container.remove();\n",
              "                captureBtn.remove();\n",
              "                quitBtn.remove();\n",
              "                resolve(null);\n",
              "            };\n",
              "        });\n",
              "    }\n",
              "    "
            ]
          },
          "metadata": {}
        },
        {
          "output_type": "stream",
          "name": "stdout",
          "text": [
            "Webcam stopped\n"
          ]
        }
      ],
      "source": [
        "import cv2\n",
        "import numpy as np\n",
        "import tensorflow as tf\n",
        "from google.colab.patches import cv2_imshow\n",
        "from IPython.display import display, Javascript, HTML, Image\n",
        "from google.colab.output import eval_js\n",
        "from base64 import b64decode\n",
        "import io\n",
        "import PIL.Image\n",
        "import time\n",
        "\n",
        "# Load saved model\n",
        "model = tf.keras.models.load_model('/content/drive/MyDrive/mnist_model.h5')\n",
        "\n",
        "# Prediction function\n",
        "def predict_digit(img):\n",
        "    img = cv2.resize(img, (28, 28))\n",
        "    img = img.reshape(1, 28, 28, 1)\n",
        "    img = img.astype(\"float32\") / 255.0\n",
        "    pred = model.predict(img, verbose=0)\n",
        "    return np.argmax(pred), np.max(pred)\n",
        "\n",
        "# JavaScript to create webcam video and capture frame\n",
        "def create_webcam_video():\n",
        "    js = Javascript('''\n",
        "    async function createWebcam() {\n",
        "        const video = document.createElement('video');\n",
        "        video.style.width = '640px';\n",
        "        video.style.height = '480px';\n",
        "        video.setAttribute('playsinline', '');\n",
        "        video.setAttribute('autoplay', '');\n",
        "\n",
        "        const stream = await navigator.mediaDevices.getUserMedia({video: true});\n",
        "        video.srcObject = stream;\n",
        "\n",
        "        const container = document.createElement('div');\n",
        "        container.appendChild(video);\n",
        "        document.body.appendChild(container);\n",
        "\n",
        "        // Create capture button\n",
        "        const captureBtn = document.createElement('button');\n",
        "        captureBtn.textContent = 'Capture and Predict';\n",
        "        captureBtn.style.margin = '10px';\n",
        "        document.body.appendChild(captureBtn);\n",
        "\n",
        "        // Create quit button\n",
        "        const quitBtn = document.createElement('button');\n",
        "        quitBtn.textContent = 'Quit';\n",
        "        quitBtn.style.margin = '10px';\n",
        "        document.body.appendChild(quitBtn);\n",
        "\n",
        "        await new Promise((resolve) => {\n",
        "            video.onloadedmetadata = () => {\n",
        "                resolve();\n",
        "            };\n",
        "        });\n",
        "\n",
        "        video.play();\n",
        "\n",
        "        return new Promise((resolve) => {\n",
        "            captureBtn.onclick = () => {\n",
        "                const canvas = document.createElement('canvas');\n",
        "                canvas.width = video.videoWidth;\n",
        "                canvas.height = video.videoHeight;\n",
        "                canvas.getContext('2d').drawImage(video, 0, 0);\n",
        "                const data = canvas.toDataURL('image/jpeg', 0.8);\n",
        "                resolve(data);\n",
        "            };\n",
        "\n",
        "            quitBtn.onclick = () => {\n",
        "                stream.getTracks().forEach(track => track.stop());\n",
        "                container.remove();\n",
        "                captureBtn.remove();\n",
        "                quitBtn.remove();\n",
        "                resolve(null);\n",
        "            };\n",
        "        });\n",
        "    }\n",
        "    ''')\n",
        "    display(js)\n",
        "\n",
        "# Function to convert data URL to OpenCV image\n",
        "def data_url_to_cv2_img(data_url):\n",
        "    # Decode base64 image\n",
        "    data = data_url.split(',')[1]\n",
        "    binary = b64decode(data)\n",
        "\n",
        "    # Convert to PIL Image\n",
        "    img = PIL.Image.open(io.BytesIO(binary))\n",
        "\n",
        "    # Convert to numpy array (OpenCV format)\n",
        "    img = np.array(img)\n",
        "\n",
        "    # Convert RGB to BGR (OpenCV uses BGR)\n",
        "    img = img[:, :, ::-1].copy()\n",
        "\n",
        "    return img\n",
        "\n",
        "# Main function\n",
        "def main():\n",
        "    print(\"Starting webcam... Please allow camera access when prompted.\")\n",
        "    create_webcam_video()\n",
        "\n",
        "    while True:\n",
        "        # Get frame from webcam\n",
        "        data_url = eval_js('createWebcam()')\n",
        "\n",
        "        if data_url is None:\n",
        "            print(\"Webcam stopped\")\n",
        "            break\n",
        "\n",
        "        # Convert to OpenCV image\n",
        "        frame = data_url_to_cv2_img(data_url)\n",
        "\n",
        "        # Frame shape\n",
        "        h, w, _ = frame.shape\n",
        "\n",
        "        # ROI (blue box)\n",
        "        box_size = 250\n",
        "        x1 = w // 2 - box_size // 2\n",
        "        y1 = h // 2 - box_size // 2\n",
        "        x2 = w // 2 + box_size // 2\n",
        "        y2 = h // 2 + box_size // 2\n",
        "\n",
        "        # Rectangle\n",
        "        frame_with_rect = frame.copy()\n",
        "        cv2.rectangle(frame_with_rect, (x1, y1), (x2, y2), (255, 0, 0), 2)\n",
        "\n",
        "        # ROI\n",
        "        roi = frame[y1:y2, x1:x2]\n",
        "\n",
        "        # Grayscale + Gaussian Blur + Threshold\n",
        "        gray = cv2.cvtColor(roi, cv2.COLOR_BGR2GRAY)\n",
        "        blur = cv2.GaussianBlur(gray, (5, 5), 0)\n",
        "        _, thres = cv2.threshold(blur, 128, 255, cv2.THRESH_BINARY_INV)\n",
        "\n",
        "        # Prediction\n",
        "        digit, acc = predict_digit(thres)\n",
        "\n",
        "        # Add prediction to frame\n",
        "        cv2.putText(frame_with_rect, f\"Prediction: {digit} ({acc*100:.2f}%)\",\n",
        "                    (10, 50), cv2.FONT_HERSHEY_SIMPLEX,\n",
        "                    1, (0, 255, 0), 2)\n",
        "\n",
        "        # Display frames\n",
        "        print(f\"Predicted digit: {digit} with confidence: {acc*100:.2f}%\")\n",
        "        cv2_imshow(frame_with_rect)\n",
        "        cv2_imshow(thres)\n",
        "\n",
        "        # Wait for a moment before next capture\n",
        "        time.sleep(1)\n",
        "\n",
        "# Run the main function\n",
        "if __name__ == \"__main__\":\n",
        "    main()"
      ]
    }
  ]
}