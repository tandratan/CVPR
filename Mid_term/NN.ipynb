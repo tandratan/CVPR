{
  "nbformat": 4,
  "nbformat_minor": 0,
  "metadata": {
    "colab": {
      "provenance": []
    },
    "kernelspec": {
      "name": "python3",
      "display_name": "Python 3"
    },
    "language_info": {
      "name": "python"
    }
  },
  "cells": [
    {
      "cell_type": "code",
      "execution_count": 2,
      "metadata": {
        "id": "6-62y4plqXJg"
      },
      "outputs": [],
      "source": [
        "import numpy as np\n",
        "import matplotlib.pyplot as plt\n",
        "from sklearn.datasets import make_blobs\n",
        "import pandas as pd\n",
        "\n",
        "np.random.seed(0)"
      ]
    },
    {
      "cell_type": "code",
      "source": [
        "X, y = make_blobs(\n",
        "    n_samples=600,\n",
        "    centers=[[-2,-2],[0,3],[3,-1]],\n",
        "    n_features=2,\n",
        "    random_state=42\n",
        ")\n",
        "\n",
        "Y = np.eye(3)[y]"
      ],
      "metadata": {
        "id": "SSoYJQezqbvt"
      },
      "execution_count": 5,
      "outputs": []
    },
    {
      "cell_type": "code",
      "source": [
        "X"
      ],
      "metadata": {
        "colab": {
          "base_uri": "https://localhost:8080/"
        },
        "id": "XysSLq4Yql1Z",
        "outputId": "2e2df6d0-b56c-4ff7-b73d-a56d59b73617"
      },
      "execution_count": 6,
      "outputs": [
        {
          "output_type": "execute_result",
          "data": {
            "text/plain": [
              "array([[-1.77590752, -1.9874076 ],\n",
              "       [ 2.9803622 , -0.44751005],\n",
              "       [-2.81822068,  0.09238728],\n",
              "       ...,\n",
              "       [ 5.40341559, -1.0576188 ],\n",
              "       [-1.34818542,  3.74326409],\n",
              "       [-0.92323325,  1.64831539]])"
            ]
          },
          "metadata": {},
          "execution_count": 6
        }
      ]
    },
    {
      "cell_type": "code",
      "source": [
        "Y"
      ],
      "metadata": {
        "colab": {
          "base_uri": "https://localhost:8080/"
        },
        "id": "cGL36JEYqsXp",
        "outputId": "14684fa0-b0e6-4385-8c0b-1028b1782f00"
      },
      "execution_count": 7,
      "outputs": [
        {
          "output_type": "execute_result",
          "data": {
            "text/plain": [
              "array([[1., 0., 0.],\n",
              "       [0., 0., 1.],\n",
              "       [1., 0., 0.],\n",
              "       ...,\n",
              "       [0., 0., 1.],\n",
              "       [0., 1., 0.],\n",
              "       [0., 1., 0.]])"
            ]
          },
          "metadata": {},
          "execution_count": 7
        }
      ]
    },
    {
      "cell_type": "code",
      "source": [
        "fig = plt.figure()\n",
        "for i in range(len(y)):\n",
        "    if y[i] == 0:\n",
        "        plt.plot(X[i,0], X[i,1], c='r', marker='o',ms=3)\n",
        "    elif y[i]==1 :\n",
        "        plt.plot(X[i,0], X[i,1], c='g', marker='o',ms=3)\n",
        "    else:\n",
        "      plt.plot(X[i,0], X[i,1], c='b', marker='o',ms=3)\n",
        "\n",
        "plt.show()"
      ],
      "metadata": {
        "colab": {
          "base_uri": "https://localhost:8080/",
          "height": 431
        },
        "id": "SS7cIG3uqw43",
        "outputId": "db5183d0-d797-4d6d-97b4-130dabaf5a3e"
      },
      "execution_count": 10,
      "outputs": [
        {
          "output_type": "display_data",
          "data": {
            "text/plain": [
              "<Figure size 640x480 with 1 Axes>"
            ],
            "image/png": "[encoded data removed]"
          },
          "metadata": {}
        }
      ]
    },
    {
      "cell_type": "code",
      "source": [
        "import numpy as np\n",
        "\n",
        "class NeuralNetwork(object):\n",
        "    def __init__(self):\n",
        "        inputLayerNeurons = 2\n",
        "        hiddenLayer1Neurons = 10\n",
        "        hiddenLayer2Neurons = 10\n",
        "        outLayerNeurons = 3\n",
        "\n",
        "        self.learning_rate = 0.2\n",
        "        self.W_H1I = np.random.randn(inputLayerNeurons, hiddenLayer1Neurons)\n",
        "        self.W_H2H1 = np.random.randn(hiddenLayer1Neurons, hiddenLayer2Neurons)\n",
        "        self.W_OH2 = np.random.randn(hiddenLayer2Neurons, outLayerNeurons)\n",
        "\n",
        "    def sigmoid(self, x, der=False):\n",
        "        if der:\n",
        "            return x * (1 - x)\n",
        "        else:\n",
        "            return 1 / (1 + np.exp(-x))\n",
        "\n",
        "    def feedForward(self, X):\n",
        "        X = np.asarray(X, dtype=float)\n",
        "        if X.ndim == 1:   # reshape if single sample\n",
        "            X = X.reshape(1, -1)\n",
        "\n",
        "        hidden1_input = np.dot(X, self.W_H1I)\n",
        "        self.hidden1_output = self.sigmoid(hidden1_input)\n",
        "\n",
        "        hidden2_input = np.dot(self.hidden1_output, self.W_H2H1)\n",
        "        self.hidden2_output = self.sigmoid(hidden2_input)\n",
        "\n",
        "        output_input = np.dot(self.hidden2_output, self.W_OH2)\n",
        "        pred = self.sigmoid(output_input)\n",
        "        return pred\n",
        "\n",
        "    def backForward(self, X, Y, pred):\n",
        "        X = np.asarray(X, dtype=float)\n",
        "        if X.ndim == 1:   # reshape if single sample\n",
        "            X = X.reshape(1, -1)\n",
        "        Y = np.asarray(Y, dtype=float).reshape(X.shape[0], -1)\n",
        "\n",
        "        output_error = Y - pred\n",
        "        output_delta = self.learning_rate * output_error * self.sigmoid(pred, der=True)\n",
        "\n",
        "        hidden2_error = output_delta.dot(self.W_OH2.T)\n",
        "        hidden2_delta = self.learning_rate * hidden2_error * self.sigmoid(self.hidden2_output, der=True)\n",
        "\n",
        "        hidden1_error = hidden2_delta.dot(self.W_H2H1.T)\n",
        "        hidden1_delta = self.learning_rate * hidden1_error * self.sigmoid(self.hidden1_output, der=True)\n",
        "\n",
        "        # weight updates\n",
        "        self.W_H1I += X.T.dot(hidden1_delta)\n",
        "        self.W_H2H1 += self.hidden1_output.T.dot(hidden2_delta)\n",
        "        self.W_OH2 += self.hidden2_output.T.dot(output_delta)\n",
        "\n",
        "    def train(self, X, Y):\n",
        "        output = self.feedForward(X)\n",
        "        self.backForward(X, Y, output)\n"
      ],
      "metadata": {
        "id": "hYChuZHNq4XF"
      },
      "execution_count": 14,
      "outputs": []
    },
    {
      "cell_type": "code",
      "source": [
        "NN=NeuralNetwork()\n",
        "\n",
        "err=[]\n",
        "\n",
        "for i in range(10000):\n",
        "  NN.train(X,Y)\n",
        "  err.append(np.mean(np.square(Y-NN.feedForward(X))))\n",
        "plt.plot(err)"
      ],
      "metadata": {
        "colab": {
          "base_uri": "https://localhost:8080/",
          "height": 447
        },
        "id": "XhZ0W3KprMSM",
        "outputId": "7d008946-b1e0-49e7-8573-1a06fc09f399"
      },
      "execution_count": 15,
      "outputs": [
        {
          "output_type": "execute_result",
          "data": {
            "text/plain": [
              "[<matplotlib.lines.Line2D at 0x7ff56fb6a180>]"
            ]
          },
          "metadata": {},
          "execution_count": 15
        },
        {
          "output_type": "display_data",
          "data": {
            "text/plain": [
              "<Figure size 640x480 with 1 Axes>"
            ],
            "image/png": "[encoded data removed]"
          },
          "metadata": {}
        }
      ]
    },
    {
      "cell_type": "code",
      "source": [
        "print(NN.feedForward([-1.77590752, -1.9874076]))"
      ],
      "metadata": {
        "colab": {
          "base_uri": "https://localhost:8080/"
        },
        "id": "J8_L7oWgroq0",
        "outputId": "788833c6-3df5-4332-dc5e-e47dfacfe8d0"
      },
      "execution_count": 18,
      "outputs": [
        {
          "output_type": "stream",
          "name": "stdout",
          "text": [
            "[[9.99998213e-01 1.19968998e-09 1.16864896e-08]]\n"
          ]
        }
      ]
    },
    {
      "cell_type": "code",
      "source": [
        "print(NN.feedForward([2.9803622 , -0.44751005]))"
      ],
      "metadata": {
        "colab": {
          "base_uri": "https://localhost:8080/"
        },
        "id": "FJCyd0Ehrt3Q",
        "outputId": "1f1a37d7-ad8d-41dd-cc05-67c76797879c"
      },
      "execution_count": 19,
      "outputs": [
        {
          "output_type": "stream",
          "name": "stdout",
          "text": [
            "[[5.44579255e-04 3.79960943e-04 9.99692288e-01]]\n"
          ]
        }
      ]
    },
    {
      "cell_type": "code",
      "source": [
        "print(NN.feedForward([-1.34818542,  3.74326409]))"
      ],
      "metadata": {
        "colab": {
          "base_uri": "https://localhost:8080/"
        },
        "id": "r9zqu-IQr0SQ",
        "outputId": "e4702fcd-e83c-465c-e9c1-13ce1a1a1558"
      },
      "execution_count": 20,
      "outputs": [
        {
          "output_type": "stream",
          "name": "stdout",
          "text": [
            "[[5.72914366e-03 9.84232222e-01 3.59138275e-06]]\n"
          ]
        }
      ]
    }
  ]
}