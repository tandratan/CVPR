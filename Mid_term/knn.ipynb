{
  "nbformat": 4,
  "nbformat_minor": 0,
  "metadata": {
    "colab": {
      "provenance": []
    },
    "kernelspec": {
      "name": "python3",
      "display_name": "Python 3"
    },
    "language_info": {
      "name": "python"
    }
  },
  "cells": [
    {
      "cell_type": "code",
      "source": [
        "from google.colab import files\n",
        "uploaded = files.upload()\n"
      ],
      "metadata": {
        "id": "f5a3qQzSZ0pM"
      },
      "execution_count": null,
      "outputs": []
    },
    {
      "cell_type": "code",
      "execution_count": null,
      "metadata": {
        "colab": {
          "base_uri": "https://localhost:8080/",
          "height": 105
        },
        "id": "uxzewoW6XM-F",
        "outputId": "165420e0-eb0f-4f50-8161-879fea4caef2"
      },
      "outputs": [
        {
          "output_type": "display_data",
          "data": {
            "text/plain": [
              "<IPython.core.display.Javascript object>"
            ],
            "application/javascript": [
              "\n",
              "        window._wandbApiKey = new Promise((resolve, reject) => {\n",
              "            function loadScript(url) {\n",
              "            return new Promise(function(resolve, reject) {\n",
              "                let newScript = document.createElement(\"script\");\n",
              "                newScript.onerror = reject;\n",
              "                newScript.onload = resolve;\n",
              "                document.body.appendChild(newScript);\n",
              "                newScript.src = url;\n",
              "            });\n",
              "            }\n",
              "            loadScript(\"https://cdn.jsdelivr.net/npm/postmate/build/postmate.min.js\").then(() => {\n",
              "            const iframe = document.createElement('iframe')\n",
              "            iframe.style.cssText = \"width:0;height:0;border:none\"\n",
              "            document.body.appendChild(iframe)\n",
              "            const handshake = new Postmate({\n",
              "                container: iframe,\n",
              "                url: 'https://wandb.ai/authorize'\n",
              "            });\n",
              "            const timeout = setTimeout(() => reject(\"Couldn't auto authenticate\"), 5000)\n",
              "            handshake.then(function(child) {\n",
              "                child.on('authorize', data => {\n",
              "                    clearTimeout(timeout)\n",
              "                    resolve(data)\n",
              "                });\n",
              "            });\n",
              "            })\n",
              "        });\n",
              "    "
            ]
          },
          "metadata": {}
        },
        {
          "output_type": "stream",
          "name": "stderr",
          "text": [
            "\u001b[34m\u001b[1mwandb\u001b[0m: Logging into wandb.ai. (Learn how to deploy a W&B server locally: https://wandb.me/wandb-server)\n",
            "\u001b[34m\u001b[1mwandb\u001b[0m: You can find your API key in your browser here: https://wandb.ai/authorize?ref=models\n",
            "wandb: Paste an API key from your profile and hit enter:"
          ]
        }
      ],
      "source": [
        "# KNN Image Classifier - Cat vs Dog vs Panda\n",
        "\n",
        "import wandb\n",
        "from sklearn.model_selection import train_test_split\n",
        "import os, cv2\n",
        "import numpy as np\n",
        "import matplotlib.pyplot as plt\n",
        "from torch.nn import *\n",
        "import torch, torchvision\n",
        "from tqdm import tqdm\n",
        "from sklearn.neighbors import KNeighborsClassifier\n",
        "from sklearn.metrics import classification_report, confusion_matrix\n",
        "\n",
        "# WANDB setup\n",
        "wandb.init(project=\"Dog-or-Cat-or-Panda\")\n",
        "\n",
        "# Device\n",
        "device = 'cpu'\n",
        "\n",
        "# Constants\n",
        "IMAGE_SIZE = (64, 64)\n",
        "DATA_DIR = \"CatDogPanda\"\n",
        "LABELS = [\"cat\", \"dog\", \"panda\"]\n",
        "\n",
        "# Load images and labels\n",
        "def load_images(data_dir):\n",
        "    X = []\n",
        "    y = []\n",
        "    for label in LABELS:\n",
        "        path = os.path.join(data_dir, label)\n",
        "        for file in tqdm(os.listdir(path), desc=f\"Loading {label} images\"):\n",
        "            img_path = os.path.join(path, file)\n",
        "            img = cv2.imread(img_path)\n",
        "            if img is not None:\n",
        "                img = cv2.resize(img, IMAGE_SIZE)\n",
        "                X.append(img)\n",
        "                y.append(label)\n",
        "    return np.array(X), np.array(y)\n",
        "\n",
        "X, y = load_images(DATA_DIR)\n",
        "\n",
        "# Normalize\n",
        "X = X / 255.0\n",
        "\n",
        "# Flatten the image for KNN input\n",
        "X_flat = X.reshape((X.shape[0], -1))\n",
        "\n",
        "# Encode labels to integers\n",
        "from sklearn.preprocessing import LabelEncoder\n",
        "le = LabelEncoder()\n",
        "y_encoded = le.fit_transform(y)\n",
        "\n",
        "# Split dataset\n",
        "X_train, X_test, y_train, y_test = train_test_split(X_flat, y_encoded, test_size=0.2, random_state=42, stratify=y_encoded)\n",
        "\n",
        "# Train KNN\n",
        "knn = KNeighborsClassifier(n_neighbors=3)\n",
        "knn.fit(X_train, y_train)\n",
        "\n",
        "# Predict\n",
        "y_pred = knn.predict(X_test)\n",
        "\n",
        "# Evaluation\n",
        "print(\"Classification Report:\\n\", classification_report(y_test, y_pred, target_names=LABELS))\n",
        "print(\"Confusion Matrix:\\n\", confusion_matrix(y_test, y_pred))\n",
        "\n",
        "# Log results to wandb\n",
        "wandb.log({\n",
        "    \"accuracy\": (y_pred == y_test).sum() / len(y_test),\n",
        "    \"confusion_matrix\": wandb.sklearn.plot_confusion_matrix(y_test, y_pred, labels=LABELS),\n",
        "    \"classification_report\": classification_report(y_test, y_pred, output_dict=True, target_names=LABELS)\n",
        "})\n"
      ]
    },
    {
      "cell_type": "code",
      "source": [],
      "metadata": {
        "id": "G2Ch7DNbXkcF"
      },
      "execution_count": null,
      "outputs": []
    }
  ]
}