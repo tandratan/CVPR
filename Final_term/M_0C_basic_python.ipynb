{
 "cells": [
  {
   "cell_type": "markdown",
   "id": "6f7a28f5",
   "metadata": {},
   "source": [
    "# Programming basics in python"
   ]
  },
  {
   "cell_type": "markdown",
   "id": "c793840e",
   "metadata": {},
   "source": [
    "### Numbers (int & float)"
   ]
  },
  {
   "cell_type": "code",
   "execution_count": 1,
   "id": "912e303b",
   "metadata": {},
   "outputs": [
    {
     "name": "stdout",
     "output_type": "stream",
     "text": [
      "<class 'int'>\n",
      "3\n",
      "4\n",
      "2\n",
      "6\n",
      "9\n",
      "4\n",
      "8\n",
      "<class 'float'>\n",
      "2.5 3.5 5.0 6.25\n"
     ]
    }
   ],
   "source": [
    "x = 3\n",
    "print(type(x)) # Prints \"<class 'int'>\"\n",
    "print(x)       # Prints \"3\"\n",
    "print(x + 1)   # Addition; prints \"4\"\n",
    "print(x - 1)   # Subtraction; prints \"2\"\n",
    "print(x * 2)   # Multiplication; prints \"6\"\n",
    "print(x ** 2)  # Exponentiation; prints \"9\"\n",
    "\n",
    "x += 1\n",
    "print(x)  # Prints \"4\"\n",
    "x *= 2\n",
    "print(x)  # Prints \"8\"\n",
    "y = 2.5\n",
    "print(type(y)) # Prints \"<class 'float'>\"\n",
    "print(y, y + 1, y * 2, y ** 2) # Prints \"2.5 3.5 5.0 6.25\""
   ]
  },
  {
   "cell_type": "markdown",
   "id": "582b807c",
   "metadata": {},
   "source": [
    "### Booleans"
   ]
  },
  {
   "cell_type": "code",
   "execution_count": 2,
   "id": "dd752f26",
   "metadata": {},
   "outputs": [
    {
     "name": "stdout",
     "output_type": "stream",
     "text": [
      "<class 'bool'>\n",
      "False\n",
      "True\n",
      "False\n",
      "True\n"
     ]
    }
   ],
   "source": [
    "t = True\n",
    "f = False\n",
    "print(type(t)) # Prints \"<class 'bool'>\"\n",
    "print(t and f) # Logical AND; prints \"False\"\n",
    "print(t or f)  # Logical OR; prints \"True\"\n",
    "print(not t)   # Logical NOT; prints \"False\"\n",
    "print(t != f)  # Logical XOR; prints \"True\""
   ]
  },
  {
   "cell_type": "markdown",
   "id": "231e526d",
   "metadata": {},
   "source": [
    "### String"
   ]
  },
  {
   "cell_type": "code",
   "execution_count": 3,
   "id": "376e7b37",
   "metadata": {},
   "outputs": [
    {
     "name": "stdout",
     "output_type": "stream",
     "text": [
      "Hello World\n"
     ]
    }
   ],
   "source": [
    "print(\"Hello World\")"
   ]
  },
  {
   "cell_type": "code",
   "execution_count": 4,
   "id": "0c44903b",
   "metadata": {},
   "outputs": [
    {
     "name": "stdout",
     "output_type": "stream",
     "text": [
      "Hello World\n"
     ]
    }
   ],
   "source": [
    "print('Hello World')"
   ]
  },
  {
   "cell_type": "code",
   "execution_count": 5,
   "id": "437ad46c",
   "metadata": {},
   "outputs": [
    {
     "name": "stdout",
     "output_type": "stream",
     "text": [
      "Print\n",
      "Multiple\n",
      "Lines\n",
      "\n"
     ]
    }
   ],
   "source": [
    "print(\"\"\"Print\n",
    "Multiple\n",
    "Lines\n",
    "\"\"\")"
   ]
  },
  {
   "cell_type": "code",
   "execution_count": 6,
   "id": "ee33b942",
   "metadata": {},
   "outputs": [
    {
     "name": "stdout",
     "output_type": "stream",
     "text": [
      "The value of a is 10\n"
     ]
    }
   ],
   "source": [
    "a = 10\n",
    "print(f'The value of a is {a}')"
   ]
  },
  {
   "cell_type": "code",
   "execution_count": 7,
   "id": "5e43f3ac",
   "metadata": {},
   "outputs": [
    {
     "name": "stdout",
     "output_type": "stream",
     "text": [
      "The value of a plus 5 is 15\n"
     ]
    }
   ],
   "source": [
    "a = 10\n",
    "print(f'The value of a plus 5 is {a+5}')"
   ]
  },
  {
   "cell_type": "code",
   "execution_count": 1,
   "id": "d68ccbe3",
   "metadata": {},
   "outputs": [
    {
     "name": "stdout",
     "output_type": "stream",
     "text": [
      "a is 5\n",
      "a is 5\n",
      "a is 5\n",
      "a is 5 5\n"
     ]
    }
   ],
   "source": [
    "a = 5\n",
    "\n",
    "print(f'a is {a}') # Preferred method for this course.\n",
    "print('a is {}'.format(a))\n",
    "print('a is ' + str(a))\n",
    "print('a is %d %d' % (a, a))"
   ]
  },
  {
   "cell_type": "markdown",
   "id": "8a99055b",
   "metadata": {},
   "source": [
    "### Condition checking"
   ]
  },
  {
   "cell_type": "code",
   "execution_count": 4,
   "id": "8d478313",
   "metadata": {},
   "outputs": [
    {
     "name": "stdout",
     "output_type": "stream",
     "text": [
      "The variable a is 5\n",
      "The variable b is also 6\n"
     ]
    }
   ],
   "source": [
    "\n",
    "a = 5\n",
    "b = 6\n",
    "\n",
    "if a==5:\n",
    "    print('The variable a is 5')\n",
    "    if b==6:\n",
    "        print('The variable b is also 6')\n",
    "elif a==6:\n",
    "    print('The variable a is 6')\n",
    "else:\n",
    "    print('anything')"
   ]
  },
  {
   "cell_type": "markdown",
   "id": "5b4ec913",
   "metadata": {},
   "source": [
    "### Looping"
   ]
  },
  {
   "cell_type": "code",
   "execution_count": 10,
   "id": "c8075677",
   "metadata": {},
   "outputs": [
    {
     "name": "stdout",
     "output_type": "stream",
     "text": [
      "1\n",
      "2\n",
      "3\n",
      "4\n",
      "5\n",
      "6\n",
      "7\n",
      "8\n",
      "9\n"
     ]
    }
   ],
   "source": [
    "for x in range(1, 10):  # If you ever see xrange, you are in Python 2\n",
    "    print(x)  "
   ]
  },
  {
   "cell_type": "code",
   "execution_count": 11,
   "id": "f41b99ad",
   "metadata": {},
   "outputs": [
    {
     "name": "stdout",
     "output_type": "stream",
     "text": [
      "test:  10\n",
      "test:  9\n",
      "test:  8\n",
      "test:  7\n",
      "test:  6\n",
      "test:  5\n",
      "test:  4\n",
      "test:  3\n",
      "test:  2\n"
     ]
    }
   ],
   "source": [
    "for i in range(10,1,-1):\n",
    "    # range(start (optional, default 0), end (exclusive), inc/dec (optional, default 1))\n",
    "    print('test: ', i)"
   ]
  },
  {
   "cell_type": "code",
   "execution_count": 12,
   "id": "5e3f470c",
   "metadata": {},
   "outputs": [
    {
     "name": "stdout",
     "output_type": "stream",
     "text": [
      "0 + 1 =  1\n",
      "1 + 2 =  3\n",
      "3 + 3 =  6\n",
      "6 + 4 =  10\n",
      "10 + 5 =  15\n",
      "15 + 6 =  21\n",
      "21 + 7 =  28\n",
      "28 + 8 =  36\n",
      "36 + 9 =  45\n",
      "Final sum: 45\n"
     ]
    }
   ],
   "source": [
    "acc = 0\n",
    "for x in range(1, 10):\n",
    "    print(f\"{acc} + {x} =  \", end=\"\")\n",
    "    acc += x\n",
    "    print(acc)\n",
    "\n",
    "print(f\"Final sum: {acc}\")"
   ]
  },
  {
   "cell_type": "code",
   "execution_count": null,
   "id": "9c028b62",
   "metadata": {},
   "outputs": [],
   "source": []
  }
 ],
 "metadata": {
  "kernelspec": {
   "display_name": "Python [conda env:.conda-tf24_gpu] *",
   "language": "python",
   "name": "conda-env-.conda-tf24_gpu-py"
  },
  "language_info": {
   "codemirror_mode": {
    "name": "ipython",
    "version": 3
   },
   "file_extension": ".py",
   "mimetype": "text/x-python",
   "name": "python",
   "nbconvert_exporter": "python",
   "pygments_lexer": "ipython3",
   "version": "3.8.8"
  }
 },
 "nbformat": 4,
 "nbformat_minor": 5
}
